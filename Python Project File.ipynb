{
 "cells": [
  {
   "cell_type": "markdown",
   "id": "e0863e71",
   "metadata": {},
   "source": [
    "# Stock Price Analysis using Spark"
   ]
  },
  {
   "cell_type": "markdown",
   "id": "786d92f1",
   "metadata": {},
   "source": [
    "## 1. Reading and Cleaning Stock Price Data"
   ]
  },
  {
   "cell_type": "code",
   "execution_count": 1,
   "id": "d762580f",
   "metadata": {},
   "outputs": [],
   "source": [
    "import pyspark\n",
    "from pyspark.sql import SparkSession"
   ]
  },
  {
   "cell_type": "code",
   "execution_count": 2,
   "id": "5b19f6c7",
   "metadata": {},
   "outputs": [
    {
     "name": "stderr",
     "output_type": "stream",
     "text": [
      "23/06/21 22:08:06 WARN SparkSession: Using an existing Spark session; only runtime SQL configurations will take effect.\n"
     ]
    }
   ],
   "source": [
    "spark = SparkSession.builder.appName(\"Stock Price Analysis\").getOrCreate()"
   ]
  },
  {
   "cell_type": "code",
   "execution_count": 3,
   "id": "a8ad9c39",
   "metadata": {},
   "outputs": [],
   "source": [
    "## Reading CSV data => Stocks\n",
    "stocks = spark.read.csv(\"StockData\", header=True)"
   ]
  },
  {
   "cell_type": "code",
   "execution_count": 4,
   "id": "ab1eaddc",
   "metadata": {},
   "outputs": [
    {
     "name": "stdout",
     "output_type": "stream",
     "text": [
      "+------+----------+----------+-------+--------+--------+--------+\n",
      "|Ticker|      Date|Close/Last| Volume|    Open|    High|     Low|\n",
      "+------+----------+----------+-------+--------+--------+--------+\n",
      "| BRK-B|05/31/2023|  $321.08 |6175417|$321.12 |$322.41 |$319.39 |\n",
      "| BRK-B|05/30/2023|  $322.19 |3232461|$321.86 |$322.47 |$319.00 |\n",
      "| BRK-B|05/26/2023|  $320.60 |3229873|$320.44 |$322.63 |$319.67 |\n",
      "| BRK-B|05/25/2023|  $319.02 |4251935|$320.56 |$320.56 |$317.71 |\n",
      "| BRK-B|05/24/2023|  $320.20 |3075393|$322.71 |$323.00 |$319.56 |\n",
      "+------+----------+----------+-------+--------+--------+--------+\n",
      "only showing top 5 rows\n",
      "\n"
     ]
    }
   ],
   "source": [
    "## Seeing Data => Dataframe\n",
    "stocks.show(5)"
   ]
  },
  {
   "cell_type": "code",
   "execution_count": 5,
   "id": "29ea63e5",
   "metadata": {},
   "outputs": [
    {
     "name": "stdout",
     "output_type": "stream",
     "text": [
      "root\n",
      " |-- Ticker: string (nullable = true)\n",
      " |-- Date: string (nullable = true)\n",
      " |-- Close/Last: string (nullable = true)\n",
      " |-- Volume: string (nullable = true)\n",
      " |-- Open: string (nullable = true)\n",
      " |-- High: string (nullable = true)\n",
      " |-- Low: string (nullable = true)\n",
      "\n"
     ]
    }
   ],
   "source": [
    "## Seeing Schema of the Data => Data Types in Dataframe\n",
    "stocks.printSchema()"
   ]
  },
  {
   "cell_type": "code",
   "execution_count": 6,
   "id": "fe72da6e",
   "metadata": {},
   "outputs": [],
   "source": [
    "## Basic select operation => Select Ticker, Date and Close price"
   ]
  },
  {
   "cell_type": "code",
   "execution_count": 7,
   "id": "2b36f358",
   "metadata": {},
   "outputs": [
    {
     "name": "stdout",
     "output_type": "stream",
     "text": [
      "+------+\n",
      "|Ticker|\n",
      "+------+\n",
      "| BRK-B|\n",
      "| BRK-B|\n",
      "| BRK-B|\n",
      "+------+\n",
      "only showing top 3 rows\n",
      "\n"
     ]
    }
   ],
   "source": [
    "stocks.select(\"Ticker\").show(3)"
   ]
  },
  {
   "cell_type": "code",
   "execution_count": 8,
   "id": "4c0895b0",
   "metadata": {},
   "outputs": [
    {
     "name": "stdout",
     "output_type": "stream",
     "text": [
      "+------+----------+--------+\n",
      "|Ticker|      Date|    Open|\n",
      "+------+----------+--------+\n",
      "| BRK-B|05/31/2023|$321.12 |\n",
      "| BRK-B|05/30/2023|$321.86 |\n",
      "| BRK-B|05/26/2023|$320.44 |\n",
      "| BRK-B|05/25/2023|$320.56 |\n",
      "| BRK-B|05/24/2023|$322.71 |\n",
      "+------+----------+--------+\n",
      "only showing top 5 rows\n",
      "\n"
     ]
    }
   ],
   "source": [
    "stocks.select([\"Ticker\", \"Date\", \"Open\"]).show(5)"
   ]
  },
  {
   "cell_type": "code",
   "execution_count": 9,
   "id": "41d1c339",
   "metadata": {},
   "outputs": [
    {
     "name": "stdout",
     "output_type": "stream",
     "text": [
      "+------+----------+----------+--------+--------+--------+--------+\n",
      "|Ticker|      Date|Close/Last|  Volume|    Open|    High|     Low|\n",
      "+------+----------+----------+--------+--------+--------+--------+\n",
      "|  MSFT|05/31/2023|  $328.39 |45950550|$332.29 |$335.94 |$327.33 |\n",
      "|  MSFT|05/30/2023|  $331.21 |29503070|$335.23 |$335.74 |$330.52 |\n",
      "|  MSFT|05/26/2023|  $332.89 |36630630|$324.02 |$333.40 |$323.88 |\n",
      "|  MSFT|05/25/2023|  $325.92 |43301740|$323.24 |$326.90 |$320.00 |\n",
      "|  MSFT|05/24/2023|  $313.85 |23384890|$314.73 |$316.50 |$312.61 |\n",
      "|  MSFT|05/23/2023|  $315.26 |30797170|$320.03 |$322.72 |$315.25 |\n",
      "|  MSFT|05/22/2023|  $321.18 |24115660|$318.60 |$322.59 |$318.01 |\n",
      "|  MSFT|05/19/2023|  $318.34 |27546700|$316.74 |$318.75 |$316.37 |\n",
      "|  MSFT|05/18/2023|  $318.52 |27275990|$314.53 |$319.04 |$313.72 |\n",
      "|  MSFT|05/17/2023|  $314.00 |24315010|$312.29 |$314.43 |$310.74 |\n",
      "+------+----------+----------+--------+--------+--------+--------+\n",
      "only showing top 10 rows\n",
      "\n"
     ]
    }
   ],
   "source": [
    "## Filtering Data => Select rows containing Microsoft Stock in last one month\n",
    "stocks.filter(stocks.Ticker == \"MSFT\").show(10)"
   ]
  },
  {
   "cell_type": "code",
   "execution_count": 10,
   "id": "254cd314",
   "metadata": {},
   "outputs": [
    {
     "name": "stdout",
     "output_type": "stream",
     "text": [
      "+------+----------+----------+--------+--------+--------+--------+\n",
      "|Ticker|      Date|Close/Last|  Volume|    Open|    High|     Low|\n",
      "+------+----------+----------+--------+--------+--------+--------+\n",
      "|  MSFT|05/31/2023|  $328.39 |45950550|$332.29 |$335.94 |$327.33 |\n",
      "+------+----------+----------+--------+--------+--------+--------+\n",
      "\n"
     ]
    }
   ],
   "source": [
    "stocks.filter((stocks.Ticker == \"MSFT\") & (stocks.Date == \"05/31/2023\")).show(5)"
   ]
  },
  {
   "cell_type": "code",
   "execution_count": 11,
   "id": "8e5cb39f",
   "metadata": {},
   "outputs": [
    {
     "name": "stdout",
     "output_type": "stream",
     "text": [
      "+------+----------+----------+--------+--------+--------+--------+\n",
      "|Ticker|      Date|Close/Last|  Volume|    Open|    High|     Low|\n",
      "+------+----------+----------+--------+--------+--------+--------+\n",
      "|  MSFT|05/31/2023|  $328.39 |45950550|$332.29 |$335.94 |$327.33 |\n",
      "|     V|05/31/2023|  $221.03 |20460620|$219.96 |$221.53 |$216.14 |\n",
      "+------+----------+----------+--------+--------+--------+--------+\n",
      "\n"
     ]
    }
   ],
   "source": [
    "stocks.filter(((stocks.Ticker == \"MSFT\") | (stocks.Ticker == \"V\")) & (stocks.Date == \"05/31/2023\")).show(15)"
   ]
  },
  {
   "cell_type": "code",
   "execution_count": 12,
   "id": "60ea13ed",
   "metadata": {},
   "outputs": [
    {
     "name": "stdout",
     "output_type": "stream",
     "text": [
      "+------+----------+----------+---------+--------+--------+--------+\n",
      "|Ticker|      Date|Close/Last|   Volume|    Open|    High|     Low|\n",
      "+------+----------+----------+---------+--------+--------+--------+\n",
      "|  MSFT|05/31/2023|  $328.39 | 45950550|$332.29 |$335.94 |$327.33 |\n",
      "|  TSLA|05/31/2023|  $203.93 |150711700|$199.78 |$203.95 |$195.12 |\n",
      "|     V|05/31/2023|  $221.03 | 20460620|$219.96 |$221.53 |$216.14 |\n",
      "|   SPY|05/31/2023|    417.85|110811800|  418.28|  419.22|  416.22|\n",
      "|   QQQ|05/31/2023|    347.99| 65105380|  348.37|   350.6|  346.51|\n",
      "+------+----------+----------+---------+--------+--------+--------+\n",
      "\n"
     ]
    }
   ],
   "source": [
    "stocks.filter((stocks.Ticker.isin([\"MSFT\", \"QQQ\", \"SPY\", \"V\", \"TSLA\"])) & (stocks.Date == \"05/31/2023\")).show(15)"
   ]
  },
  {
   "cell_type": "code",
   "execution_count": 13,
   "id": "56abf194",
   "metadata": {},
   "outputs": [
    {
     "name": "stdout",
     "output_type": "stream",
     "text": [
      "root\n",
      " |-- Ticker: string (nullable = true)\n",
      " |-- Date: string (nullable = true)\n",
      " |-- Close/Last: string (nullable = true)\n",
      " |-- Volume: string (nullable = true)\n",
      " |-- Open: string (nullable = true)\n",
      " |-- High: string (nullable = true)\n",
      " |-- Low: string (nullable = true)\n",
      "\n"
     ]
    }
   ],
   "source": [
    "## User Defined Functions\n",
    "stocks.printSchema()"
   ]
  },
  {
   "cell_type": "code",
   "execution_count": 14,
   "id": "3821523b",
   "metadata": {},
   "outputs": [],
   "source": [
    "from pyspark.sql.functions import udf\n",
    "from pyspark.sql.types import DateType"
   ]
  },
  {
   "cell_type": "code",
   "execution_count": 15,
   "id": "6781a6ac",
   "metadata": {},
   "outputs": [],
   "source": [
    "from datetime import datetime"
   ]
  },
  {
   "cell_type": "code",
   "execution_count": 16,
   "id": "d1c8850a",
   "metadata": {},
   "outputs": [],
   "source": [
    "date_parser = udf(lambda date: datetime.strptime(date,\"%m/%d/%Y\"), DateType())"
   ]
  },
  {
   "cell_type": "code",
   "execution_count": 17,
   "id": "cc8fd5bf",
   "metadata": {},
   "outputs": [],
   "source": [
    "stocks = stocks.withColumn(\"ParsedDate\", date_parser(stocks.Date))"
   ]
  },
  {
   "cell_type": "code",
   "execution_count": 18,
   "id": "3cb2425d",
   "metadata": {},
   "outputs": [
    {
     "name": "stdout",
     "output_type": "stream",
     "text": [
      "root\n",
      " |-- Ticker: string (nullable = true)\n",
      " |-- Date: string (nullable = true)\n",
      " |-- Close/Last: string (nullable = true)\n",
      " |-- Volume: string (nullable = true)\n",
      " |-- Open: string (nullable = true)\n",
      " |-- High: string (nullable = true)\n",
      " |-- Low: string (nullable = true)\n",
      " |-- ParsedDate: date (nullable = true)\n",
      "\n"
     ]
    }
   ],
   "source": [
    "stocks.printSchema()"
   ]
  },
  {
   "cell_type": "code",
   "execution_count": 19,
   "id": "b58e43ff",
   "metadata": {},
   "outputs": [],
   "source": [
    "def num_parser(value):\n",
    "    if isinstance(value, str):\n",
    "        return float(value.strip(\"$\"))\n",
    "    elif isinstance(value, int) or isinstance(value, float):\n",
    "        return value\n",
    "    else:\n",
    "        return None\n",
    "    \n",
    "from pyspark.sql.types import FloatType\n",
    "parser_number = udf(num_parser, FloatType())"
   ]
  },
  {
   "cell_type": "code",
   "execution_count": 20,
   "id": "3ae5411c",
   "metadata": {},
   "outputs": [],
   "source": [
    "stocks = (stocks.withColumn(\"Open\", parser_number(stocks.Open))\n",
    "                .withColumn(\"Close\", parser_number(stocks[\"Close/Last\"]))\n",
    "                .withColumn(\"Low\", parser_number(stocks.Low))\n",
    "                .withColumn(\"High\", parser_number(stocks.High)))"
   ]
  },
  {
   "cell_type": "code",
   "execution_count": 21,
   "id": "c0090459",
   "metadata": {},
   "outputs": [
    {
     "name": "stdout",
     "output_type": "stream",
     "text": [
      "root\n",
      " |-- Ticker: string (nullable = true)\n",
      " |-- Date: string (nullable = true)\n",
      " |-- Close/Last: string (nullable = true)\n",
      " |-- Volume: string (nullable = true)\n",
      " |-- Open: float (nullable = true)\n",
      " |-- High: float (nullable = true)\n",
      " |-- Low: float (nullable = true)\n",
      " |-- ParsedDate: date (nullable = true)\n",
      " |-- Close: float (nullable = true)\n",
      "\n"
     ]
    }
   ],
   "source": [
    "stocks.printSchema()"
   ]
  },
  {
   "cell_type": "code",
   "execution_count": 22,
   "id": "4e570c12",
   "metadata": {},
   "outputs": [],
   "source": [
    "from pyspark.sql.types import IntegerType\n",
    "parse_int = udf(lambda value: int(value), IntegerType())"
   ]
  },
  {
   "cell_type": "code",
   "execution_count": 23,
   "id": "0122dee6",
   "metadata": {},
   "outputs": [],
   "source": [
    "## Changing the datatype of the column\n",
    "stocks = stocks.withColumn(\"Volume\", parse_int(stocks.Volume))"
   ]
  },
  {
   "cell_type": "code",
   "execution_count": 24,
   "id": "1fc6a1dc",
   "metadata": {},
   "outputs": [
    {
     "name": "stdout",
     "output_type": "stream",
     "text": [
      "root\n",
      " |-- Ticker: string (nullable = true)\n",
      " |-- Date: string (nullable = true)\n",
      " |-- Close/Last: string (nullable = true)\n",
      " |-- Volume: integer (nullable = true)\n",
      " |-- Open: float (nullable = true)\n",
      " |-- High: float (nullable = true)\n",
      " |-- Low: float (nullable = true)\n",
      " |-- ParsedDate: date (nullable = true)\n",
      " |-- Close: float (nullable = true)\n",
      "\n"
     ]
    }
   ],
   "source": [
    "stocks.printSchema()"
   ]
  },
  {
   "cell_type": "code",
   "execution_count": 25,
   "id": "32a3ee98",
   "metadata": {},
   "outputs": [],
   "source": [
    "cleaned_stocks = stocks.select([\"Ticker\", \"ParsedDate\", \"Volume\", \"Open\", \"Low\", \"High\", \"Close\"])"
   ]
  },
  {
   "cell_type": "code",
   "execution_count": 26,
   "id": "3156470b",
   "metadata": {},
   "outputs": [
    {
     "name": "stdout",
     "output_type": "stream",
     "text": [
      "+------+----------+-------+------+------+------+------+\n",
      "|Ticker|ParsedDate| Volume|  Open|   Low|  High| Close|\n",
      "+------+----------+-------+------+------+------+------+\n",
      "| BRK-B|2023-05-31|6175417|321.12|319.39|322.41|321.08|\n",
      "| BRK-B|2023-05-30|3232461|321.86| 319.0|322.47|322.19|\n",
      "| BRK-B|2023-05-26|3229873|320.44|319.67|322.63| 320.6|\n",
      "| BRK-B|2023-05-25|4251935|320.56|317.71|320.56|319.02|\n",
      "| BRK-B|2023-05-24|3075393|322.71|319.56| 323.0| 320.2|\n",
      "+------+----------+-------+------+------+------+------+\n",
      "only showing top 5 rows\n",
      "\n"
     ]
    }
   ],
   "source": [
    "cleaned_stocks.show(5)"
   ]
  },
  {
   "cell_type": "code",
   "execution_count": 27,
   "id": "9db6726b",
   "metadata": {},
   "outputs": [
    {
     "name": "stderr",
     "output_type": "stream",
     "text": [
      "23/06/21 22:08:12 WARN package: Truncated the string representation of a plan since it was too large. This behavior can be adjusted by setting 'spark.sql.debug.maxToStringFields'.\n"
     ]
    },
    {
     "name": "stdout",
     "output_type": "stream",
     "text": [
      "+-------+--------------------+------------------+------------------+------------------+------------------+\n",
      "|summary|              Volume|              Open|               Low|              High|             Close|\n",
      "+-------+--------------------+------------------+------------------+------------------+------------------+\n",
      "|  count|               15108|             15108|             15108|             15108|             15108|\n",
      "|   mean|5.1868408793685466E7|180.09656566181036| 177.9982781513109| 182.1253348687101| 180.1256089860054|\n",
      "| stddev| 5.496484129953464E7|101.16125813324399|100.26590135955216|101.96625521621753|101.14891782168563|\n",
      "|    min|              961133|             12.07|              11.8|             12.45|             11.93|\n",
      "|    max|           914080943|            479.22|            476.06|            479.98|            477.71|\n",
      "+-------+--------------------+------------------+------------------+------------------+------------------+\n",
      "\n"
     ]
    }
   ],
   "source": [
    "## Calculating basic stastics about data => Calculate average stock price\n",
    "cleaned_stocks.describe([\"Volume\", \"Open\", \"Low\", \"High\", \"Close\"]).show()"
   ]
  },
  {
   "cell_type": "markdown",
   "id": "475de35a",
   "metadata": {},
   "source": [
    "## 2. Basic Stock Analysis"
   ]
  },
  {
   "cell_type": "code",
   "execution_count": 28,
   "id": "82a3be18",
   "metadata": {},
   "outputs": [
    {
     "name": "stdout",
     "output_type": "stream",
     "text": [
      "+------+---------+\n",
      "|Ticker|max(Open)|\n",
      "+------+---------+\n",
      "| BRK-B|   361.39|\n",
      "|  MSFT|   344.62|\n",
      "|  META|   381.68|\n",
      "|  TSLA|   411.47|\n",
      "|  AAPL|   182.63|\n",
      "|  AMZN|    187.2|\n",
      "| GOOGL|   151.25|\n",
      "|  NVDA|   405.95|\n",
      "|     V|   250.05|\n",
      "|   TSM|   141.61|\n",
      "|   SPY|   479.22|\n",
      "|   QQQ|   405.57|\n",
      "+------+---------+\n",
      "\n"
     ]
    }
   ],
   "source": [
    "## Calculate maximum stock price for various stocks\n",
    "cleaned_stocks.groupBy(\"Ticker\").max(\"Open\").show(15)"
   ]
  },
  {
   "cell_type": "code",
   "execution_count": 29,
   "id": "fd288621",
   "metadata": {},
   "outputs": [
    {
     "name": "stdout",
     "output_type": "stream",
     "text": [
      "+------+-------------+\n",
      "|Ticker|MaxStockPrice|\n",
      "+------+-------------+\n",
      "| BRK-B|       361.39|\n",
      "|  MSFT|       344.62|\n",
      "|  META|       381.68|\n",
      "|  TSLA|       411.47|\n",
      "|  AAPL|       182.63|\n",
      "|  AMZN|        187.2|\n",
      "| GOOGL|       151.25|\n",
      "|  NVDA|       405.95|\n",
      "|     V|       250.05|\n",
      "|   TSM|       141.61|\n",
      "|   SPY|       479.22|\n",
      "|   QQQ|       405.57|\n",
      "+------+-------------+\n",
      "\n"
     ]
    }
   ],
   "source": [
    "cleaned_stocks.groupBy(\"Ticker\").max(\"Open\").withColumnRenamed(\"max(Open)\", \"MaxStockPrice\").show(15)"
   ]
  },
  {
   "cell_type": "code",
   "execution_count": 30,
   "id": "96c86183",
   "metadata": {},
   "outputs": [
    {
     "name": "stdout",
     "output_type": "stream",
     "text": [
      "+------+-------------+\n",
      "|Ticker|MaxStockPrice|\n",
      "+------+-------------+\n",
      "| BRK-B|       361.39|\n",
      "|  MSFT|       344.62|\n",
      "|  META|       381.68|\n",
      "|  TSLA|       411.47|\n",
      "|  AAPL|       182.63|\n",
      "|  AMZN|        187.2|\n",
      "| GOOGL|       151.25|\n",
      "|  NVDA|       405.95|\n",
      "|     V|       250.05|\n",
      "|   TSM|       141.61|\n",
      "|   SPY|       479.22|\n",
      "|   QQQ|       405.57|\n",
      "+------+-------------+\n",
      "\n"
     ]
    }
   ],
   "source": [
    "import pyspark.sql.functions as func\n",
    "cleaned_stocks.groupBy(\"Ticker\").agg(func.max(\"Open\").alias(\"MaxStockPrice\")).show(15)"
   ]
  },
  {
   "cell_type": "code",
   "execution_count": 31,
   "id": "db02abee",
   "metadata": {},
   "outputs": [
    {
     "name": "stdout",
     "output_type": "stream",
     "text": [
      "+------+-------------+------------+\n",
      "|Ticker|MaxStockPrice| TotalVolume|\n",
      "+------+-------------+------------+\n",
      "| BRK-B|       361.39|  5862401321|\n",
      "|  MSFT|       344.62| 37976660472|\n",
      "|  META|       381.68| 30148848043|\n",
      "|  TSLA|       411.47|171802975076|\n",
      "|  AAPL|       182.63|139310061360|\n",
      "|  AMZN|        187.2|104503287430|\n",
      "| GOOGL|       151.25| 43956560981|\n",
      "|  NVDA|       405.95| 58787218324|\n",
      "|     V|       250.05| 10410997871|\n",
      "|   TSM|       141.61| 12506470104|\n",
      "|   SPY|       479.22|107925285300|\n",
      "|   QQQ|       405.57| 60437153773|\n",
      "+------+-------------+------------+\n",
      "\n"
     ]
    }
   ],
   "source": [
    "cleaned_stocks.groupBy(\"Ticker\").agg(\n",
    "    func.max(\"Open\").alias(\"MaxStockPrice\"),\n",
    "    func.sum(\"Volume\").alias(\"TotalVolume\")\n",
    ").show(15)"
   ]
  },
  {
   "cell_type": "code",
   "execution_count": 32,
   "id": "ee58306b",
   "metadata": {},
   "outputs": [],
   "source": [
    "## Calculate maximum price of stocks each year => Basic date manipulation operation\n",
    "cleaned_stocks = (cleaned_stocks.withColumn(\"Year\", func.year(cleaned_stocks.ParsedDate))\n",
    "                                .withColumn(\"Month\", func.month(cleaned_stocks.ParsedDate))\n",
    "                                .withColumn(\"Day\", func.dayofmonth(cleaned_stocks.ParsedDate))\n",
    "                                .withColumn(\"Week\", func.weekofyear(cleaned_stocks.ParsedDate))\n",
    "                 )"
   ]
  },
  {
   "cell_type": "code",
   "execution_count": 33,
   "id": "b525d807",
   "metadata": {},
   "outputs": [
    {
     "name": "stdout",
     "output_type": "stream",
     "text": [
      "+------+----------+-------+------+------+------+------+----+-----+---+----+\n",
      "|Ticker|ParsedDate| Volume|  Open|   Low|  High| Close|Year|Month|Day|Week|\n",
      "+------+----------+-------+------+------+------+------+----+-----+---+----+\n",
      "| BRK-B|2023-05-31|6175417|321.12|319.39|322.41|321.08|2023|    5| 31|  22|\n",
      "| BRK-B|2023-05-30|3232461|321.86| 319.0|322.47|322.19|2023|    5| 30|  22|\n",
      "| BRK-B|2023-05-26|3229873|320.44|319.67|322.63| 320.6|2023|    5| 26|  21|\n",
      "| BRK-B|2023-05-25|4251935|320.56|317.71|320.56|319.02|2023|    5| 25|  21|\n",
      "| BRK-B|2023-05-24|3075393|322.71|319.56| 323.0| 320.2|2023|    5| 24|  21|\n",
      "| BRK-B|2023-05-23|4031342|328.19|322.97|329.27|323.11|2023|    5| 23|  21|\n",
      "| BRK-B|2023-05-22|2763422|330.75|328.35|331.49|329.13|2023|    5| 22|  21|\n",
      "| BRK-B|2023-05-19|4323538| 331.0|329.12|333.94|330.39|2023|    5| 19|  20|\n",
      "| BRK-B|2023-05-18|2808329|326.87|325.85|329.98|329.76|2023|    5| 18|  20|\n",
      "| BRK-B|2023-05-17|3047626|325.02|324.82|328.26|327.39|2023|    5| 17|  20|\n",
      "+------+----------+-------+------+------+------+------+----+-----+---+----+\n",
      "only showing top 10 rows\n",
      "\n"
     ]
    }
   ],
   "source": [
    "cleaned_stocks.show(10)"
   ]
  },
  {
   "cell_type": "code",
   "execution_count": 34,
   "id": "af82a3d7",
   "metadata": {},
   "outputs": [],
   "source": [
    "yearly = cleaned_stocks.groupBy(['Ticker', 'Year']).agg(func.max(\"Open\").alias(\"YearlHigh\"), func.min(\"Open\").alias(\"YearlyLow\"))"
   ]
  },
  {
   "cell_type": "code",
   "execution_count": 35,
   "id": "af4453ed",
   "metadata": {},
   "outputs": [
    {
     "name": "stdout",
     "output_type": "stream",
     "text": [
      "+------+----+---------+---------+\n",
      "|Ticker|Year|YearlHigh|YearlyLow|\n",
      "+------+----+---------+---------+\n",
      "| BRK-B|2023|    331.0|   294.68|\n",
      "| BRK-B|2018|    224.0|   185.43|\n",
      "| BRK-B|2021|   300.88|   228.21|\n",
      "| BRK-B|2020|   233.92|    165.3|\n",
      "| BRK-B|2019|   227.27|   194.78|\n",
      "| BRK-B|2022|   361.39|   260.58|\n",
      "|  MSFT|2019|   159.45|    99.55|\n",
      "|  MSFT|2021|   344.62|   212.17|\n",
      "|  MSFT|2020|   229.27|   137.01|\n",
      "|  MSFT|2018|   115.42|    95.14|\n",
      "|  MSFT|2023|   335.23|    223.0|\n",
      "|  MSFT|2022|   335.35|   217.55|\n",
      "|  META|2020|   300.16|   139.75|\n",
      "|  META|2021|   381.68|    247.9|\n",
      "|  META|2018|   215.72|    123.1|\n",
      "|  META|2022|   339.95|    90.08|\n",
      "|  META|2019|   208.67|   128.99|\n",
      "|  META|2023|   265.25|   122.82|\n",
      "|  TSLA|2019|     29.0|    12.07|\n",
      "|  TSLA|2021|   411.47|   184.18|\n",
      "+------+----+---------+---------+\n",
      "only showing top 20 rows\n",
      "\n"
     ]
    }
   ],
   "source": [
    "yearly.show()"
   ]
  },
  {
   "cell_type": "code",
   "execution_count": 36,
   "id": "0950bc7f",
   "metadata": {},
   "outputs": [],
   "source": [
    "## Calculate average stock price for stock each month\n",
    "monthly = cleaned_stocks.groupBy(['Ticker', 'Year', 'Month']).agg(func.max(\"Open\").alias(\"MonthHigh\"), func.min(\"Open\").alias(\"MonthLow\"))\n",
    "weekly = cleaned_stocks.groupBy(['Ticker', 'Year', 'Week']).agg(func.max(\"Open\").alias(\"WeekHigh\"), func.min(\"Open\").alias(\"WeekLow\"))"
   ]
  },
  {
   "cell_type": "code",
   "execution_count": 37,
   "id": "ad2fef98",
   "metadata": {},
   "outputs": [
    {
     "name": "stdout",
     "output_type": "stream",
     "text": [
      "+------+----+-----+---------+--------+\n",
      "|Ticker|Year|Month|MonthHigh|MonthLow|\n",
      "+------+----+-----+---------+--------+\n",
      "| BRK-B|2022|   10|   297.98|  260.58|\n",
      "| BRK-B|2018|    9|   222.13|  209.21|\n",
      "| BRK-B|2021|   10|   290.85|  273.02|\n",
      "| BRK-B|2020|   10|   216.74|  200.03|\n",
      "| BRK-B|2019|    9|   212.24|  201.19|\n",
      "| BRK-B|2021|    6|   292.91|   275.0|\n",
      "| BRK-B|2022|   11|   317.52|  286.02|\n",
      "| BRK-B|2022|    7|   297.42|   272.5|\n",
      "| BRK-B|2022|    6|    316.0|  267.38|\n",
      "| BRK-B|2020|    8|   218.62|  197.28|\n",
      "| BRK-B|2021|   12|   300.88|  276.68|\n",
      "| BRK-B|2019|    1|   204.68|  194.78|\n",
      "| BRK-B|2019|    6|    213.0|  197.62|\n",
      "| BRK-B|2020|    7|   195.06|  178.26|\n",
      "| BRK-B|2021|    8|   291.81|  279.05|\n",
      "| BRK-B|2018|    6|    196.3|  185.43|\n",
      "| BRK-B|2022|    5|   325.85|  303.93|\n",
      "| BRK-B|2020|   12|   231.26|  222.02|\n",
      "| BRK-B|2020|    4|    194.0|   175.0|\n",
      "| BRK-B|2018|    8|   211.08|   197.2|\n",
      "+------+----+-----+---------+--------+\n",
      "only showing top 20 rows\n",
      "\n"
     ]
    }
   ],
   "source": [
    "monthly.show()"
   ]
  },
  {
   "cell_type": "code",
   "execution_count": 38,
   "id": "20524b2e",
   "metadata": {},
   "outputs": [
    {
     "name": "stdout",
     "output_type": "stream",
     "text": [
      "+------+----+----+--------+-------+\n",
      "|Ticker|Year|Week|WeekHigh|WeekLow|\n",
      "+------+----+----+--------+-------+\n",
      "| BRK-B|2022|  14|   352.0| 341.17|\n",
      "| BRK-B|2022|  10|  326.59| 322.49|\n",
      "| BRK-B|2021|  14|  264.22| 260.02|\n",
      "| BRK-B|2018|  48|  217.23|  209.3|\n",
      "| BRK-B|2020|  19|  180.05|  173.4|\n",
      "| BRK-B|2021|  32|  291.81| 287.01|\n",
      "| BRK-B|2021|  10|  264.22|  255.6|\n",
      "| BRK-B|2020|  10|  217.39| 203.48|\n",
      "| BRK-B|2020|  28|   183.1| 178.26|\n",
      "| BRK-B|2019|  30|  208.37| 205.34|\n",
      "| BRK-B|2019|  23|  204.95| 197.62|\n",
      "| BRK-B|2018|  40|   219.7| 214.43|\n",
      "| BRK-B|2022|  40|   278.2| 269.52|\n",
      "| BRK-B|2022|  38|   278.9| 266.01|\n",
      "| BRK-B|2020|  52|   224.6| 222.02|\n",
      "| BRK-B|2019|   9|  203.15|  201.7|\n",
      "| BRK-B|2021|   6|  241.43|  236.0|\n",
      "| BRK-B|2022|  11|  344.12| 328.65|\n",
      "| BRK-B|2018|  28|   190.9| 188.11|\n",
      "| BRK-B|2022|  28|  279.38|  273.0|\n",
      "+------+----+----+--------+-------+\n",
      "only showing top 20 rows\n",
      "\n"
     ]
    }
   ],
   "source": [
    "weekly.show()"
   ]
  },
  {
   "cell_type": "code",
   "execution_count": 39,
   "id": "a8eca190",
   "metadata": {},
   "outputs": [
    {
     "name": "stdout",
     "output_type": "stream",
     "text": [
      "+------+----+----+--------+-------+---------+\n",
      "|Ticker|Year|Week|WeekHigh|WeekLow|   Spread|\n",
      "+------+----+----+--------+-------+---------+\n",
      "| BRK-B|2022|  14|   352.0| 341.17|10.829987|\n",
      "| BRK-B|2022|  10|  326.59| 322.49| 4.100006|\n",
      "| BRK-B|2021|  14|  264.22| 260.02| 4.200012|\n",
      "| BRK-B|2018|  48|  217.23|  209.3|7.9299927|\n",
      "| BRK-B|2020|  19|  180.05|  173.4| 6.650009|\n",
      "| BRK-B|2021|  32|  291.81| 287.01| 4.799988|\n",
      "| BRK-B|2021|  10|  264.22|  255.6| 8.619995|\n",
      "| BRK-B|2020|  10|  217.39| 203.48|13.910004|\n",
      "| BRK-B|2020|  28|   183.1| 178.26|4.8400116|\n",
      "| BRK-B|2019|  30|  208.37| 205.34|3.0299988|\n",
      "| BRK-B|2019|  23|  204.95| 197.62| 7.330002|\n",
      "| BRK-B|2018|  40|   219.7| 214.43|5.2700043|\n",
      "| BRK-B|2022|  40|   278.2| 269.52| 8.680023|\n",
      "| BRK-B|2022|  38|   278.9| 266.01|12.889984|\n",
      "| BRK-B|2020|  52|   224.6| 222.02|2.5800018|\n",
      "| BRK-B|2019|   9|  203.15|  201.7| 1.449997|\n",
      "| BRK-B|2021|   6|  241.43|  236.0|5.4299927|\n",
      "| BRK-B|2022|  11|  344.12| 328.65|15.470001|\n",
      "| BRK-B|2018|  28|   190.9| 188.11|2.7899933|\n",
      "| BRK-B|2022|  28|  279.38|  273.0| 6.380005|\n",
      "+------+----+----+--------+-------+---------+\n",
      "only showing top 20 rows\n",
      "\n"
     ]
    }
   ],
   "source": [
    "weekly.withColumn(\"Spread\", weekly['WeekHigh'] - weekly['WeekLow']).show()"
   ]
  },
  {
   "cell_type": "markdown",
   "id": "dfbf4ec0",
   "metadata": {},
   "source": [
    "## 3. Joins"
   ]
  },
  {
   "cell_type": "code",
   "execution_count": 40,
   "id": "722b4a6f",
   "metadata": {},
   "outputs": [
    {
     "name": "stdout",
     "output_type": "stream",
     "text": [
      "+------+----------+-------+------+------+------+------+----+-----+---+----+------+----+---------+---------+\n",
      "|Ticker|ParsedDate| Volume|  Open|   Low|  High| Close|Year|Month|Day|Week|Ticker|Year|YearlHigh|YearlyLow|\n",
      "+------+----------+-------+------+------+------+------+----+-----+---+----+------+----+---------+---------+\n",
      "| BRK-B|2023-05-31|6175417|321.12|319.39|322.41|321.08|2023|    5| 31|  22| BRK-B|2023|    331.0|   294.68|\n",
      "| BRK-B|2023-05-30|3232461|321.86| 319.0|322.47|322.19|2023|    5| 30|  22| BRK-B|2023|    331.0|   294.68|\n",
      "| BRK-B|2023-05-26|3229873|320.44|319.67|322.63| 320.6|2023|    5| 26|  21| BRK-B|2023|    331.0|   294.68|\n",
      "| BRK-B|2023-05-25|4251935|320.56|317.71|320.56|319.02|2023|    5| 25|  21| BRK-B|2023|    331.0|   294.68|\n",
      "| BRK-B|2023-05-24|3075393|322.71|319.56| 323.0| 320.2|2023|    5| 24|  21| BRK-B|2023|    331.0|   294.68|\n",
      "| BRK-B|2023-05-23|4031342|328.19|322.97|329.27|323.11|2023|    5| 23|  21| BRK-B|2023|    331.0|   294.68|\n",
      "| BRK-B|2023-05-22|2763422|330.75|328.35|331.49|329.13|2023|    5| 22|  21| BRK-B|2023|    331.0|   294.68|\n",
      "| BRK-B|2023-05-19|4323538| 331.0|329.12|333.94|330.39|2023|    5| 19|  20| BRK-B|2023|    331.0|   294.68|\n",
      "| BRK-B|2023-05-18|2808329|326.87|325.85|329.98|329.76|2023|    5| 18|  20| BRK-B|2023|    331.0|   294.68|\n",
      "| BRK-B|2023-05-17|3047626|325.02|324.82|328.26|327.39|2023|    5| 17|  20| BRK-B|2023|    331.0|   294.68|\n",
      "| BRK-B|2023-05-16|2139996|322.46|322.36|324.69|323.75|2023|    5| 16|  20| BRK-B|2023|    331.0|   294.68|\n",
      "| BRK-B|2023-05-15|2191609|322.89|320.13|323.83|323.53|2023|    5| 15|  20| BRK-B|2023|    331.0|   294.68|\n",
      "| BRK-B|2023-05-12|1938264|323.82|320.54|324.24|322.49|2023|    5| 12|  19| BRK-B|2023|    331.0|   294.68|\n",
      "| BRK-B|2023-05-11|2549339| 321.0|319.81|322.96|322.64|2023|    5| 11|  19| BRK-B|2023|    331.0|   294.68|\n",
      "| BRK-B|2023-05-10|2641134|326.08|320.15|326.16|322.99|2023|    5| 10|  19| BRK-B|2023|    331.0|   294.68|\n",
      "| BRK-B|2023-05-09|2285924|324.87|323.48|326.88|324.87|2023|    5|  9|  19| BRK-B|2023|    331.0|   294.68|\n",
      "| BRK-B|2023-05-08|3303393|328.26|325.79|330.69|326.14|2023|    5|  8|  19| BRK-B|2023|    331.0|   294.68|\n",
      "| BRK-B|2023-05-05|3876299|323.36|322.62|325.16|323.88|2023|    5|  5|  18| BRK-B|2023|    331.0|   294.68|\n",
      "| BRK-B|2023-05-04|3194768|323.44|317.41|325.99| 320.0|2023|    5|  4|  18| BRK-B|2023|    331.0|   294.68|\n",
      "| BRK-B|2023-05-03|2660456|327.13|323.06|328.07|323.22|2023|    5|  3|  18| BRK-B|2023|    331.0|   294.68|\n",
      "+------+----------+-------+------+------+------+------+----+-----+---+----+------+----+---------+---------+\n",
      "only showing top 20 rows\n",
      "\n"
     ]
    }
   ],
   "source": [
    "# Joins\n",
    "cleaned_stocks.join(yearly, \n",
    "                                      (cleaned_stocks.Ticker==yearly.Ticker) & (cleaned_stocks.Year == yearly.Year),\n",
    "                                      'inner'\n",
    "                                     ).show()"
   ]
  },
  {
   "cell_type": "code",
   "execution_count": 41,
   "id": "82fb7b34",
   "metadata": {},
   "outputs": [
    {
     "name": "stdout",
     "output_type": "stream",
     "text": [
      "+----------+-------+------+------+------+------+-----+---+----+------+----+---------+---------+\n",
      "|ParsedDate| Volume|  Open|   Low|  High| Close|Month|Day|Week|Ticker|Year|YearlHigh|YearlyLow|\n",
      "+----------+-------+------+------+------+------+-----+---+----+------+----+---------+---------+\n",
      "|2023-05-31|6175417|321.12|319.39|322.41|321.08|    5| 31|  22| BRK-B|2023|    331.0|   294.68|\n",
      "|2023-05-30|3232461|321.86| 319.0|322.47|322.19|    5| 30|  22| BRK-B|2023|    331.0|   294.68|\n",
      "|2023-05-26|3229873|320.44|319.67|322.63| 320.6|    5| 26|  21| BRK-B|2023|    331.0|   294.68|\n",
      "|2023-05-25|4251935|320.56|317.71|320.56|319.02|    5| 25|  21| BRK-B|2023|    331.0|   294.68|\n",
      "|2023-05-24|3075393|322.71|319.56| 323.0| 320.2|    5| 24|  21| BRK-B|2023|    331.0|   294.68|\n",
      "|2023-05-23|4031342|328.19|322.97|329.27|323.11|    5| 23|  21| BRK-B|2023|    331.0|   294.68|\n",
      "|2023-05-22|2763422|330.75|328.35|331.49|329.13|    5| 22|  21| BRK-B|2023|    331.0|   294.68|\n",
      "|2023-05-19|4323538| 331.0|329.12|333.94|330.39|    5| 19|  20| BRK-B|2023|    331.0|   294.68|\n",
      "|2023-05-18|2808329|326.87|325.85|329.98|329.76|    5| 18|  20| BRK-B|2023|    331.0|   294.68|\n",
      "|2023-05-17|3047626|325.02|324.82|328.26|327.39|    5| 17|  20| BRK-B|2023|    331.0|   294.68|\n",
      "|2023-05-16|2139996|322.46|322.36|324.69|323.75|    5| 16|  20| BRK-B|2023|    331.0|   294.68|\n",
      "|2023-05-15|2191609|322.89|320.13|323.83|323.53|    5| 15|  20| BRK-B|2023|    331.0|   294.68|\n",
      "|2023-05-12|1938264|323.82|320.54|324.24|322.49|    5| 12|  19| BRK-B|2023|    331.0|   294.68|\n",
      "|2023-05-11|2549339| 321.0|319.81|322.96|322.64|    5| 11|  19| BRK-B|2023|    331.0|   294.68|\n",
      "|2023-05-10|2641134|326.08|320.15|326.16|322.99|    5| 10|  19| BRK-B|2023|    331.0|   294.68|\n",
      "|2023-05-09|2285924|324.87|323.48|326.88|324.87|    5|  9|  19| BRK-B|2023|    331.0|   294.68|\n",
      "|2023-05-08|3303393|328.26|325.79|330.69|326.14|    5|  8|  19| BRK-B|2023|    331.0|   294.68|\n",
      "|2023-05-05|3876299|323.36|322.62|325.16|323.88|    5|  5|  18| BRK-B|2023|    331.0|   294.68|\n",
      "|2023-05-04|3194768|323.44|317.41|325.99| 320.0|    5|  4|  18| BRK-B|2023|    331.0|   294.68|\n",
      "|2023-05-03|2660456|327.13|323.06|328.07|323.22|    5|  3|  18| BRK-B|2023|    331.0|   294.68|\n",
      "+----------+-------+------+------+------+------+-----+---+----+------+----+---------+---------+\n",
      "only showing top 20 rows\n",
      "\n"
     ]
    }
   ],
   "source": [
    "cleaned_stocks.join(yearly, \n",
    "                    (cleaned_stocks.Ticker==yearly.Ticker) & (cleaned_stocks.Year == yearly.Year),\n",
    "                    'inner'\n",
    "                   ).drop(yearly.Year, yearly.Ticker).show()"
   ]
  },
  {
   "cell_type": "code",
   "execution_count": 42,
   "id": "898d6998",
   "metadata": {},
   "outputs": [],
   "source": [
    "historic_stocks = cleaned_stocks.join(yearly, \n",
    "                    (cleaned_stocks.Ticker==yearly.Ticker) & (cleaned_stocks.Year == yearly.Year),\n",
    "                    'inner'\n",
    "                   ).drop(yearly.Year, yearly.Ticker)"
   ]
  },
  {
   "cell_type": "code",
   "execution_count": 43,
   "id": "9a41d099",
   "metadata": {},
   "outputs": [
    {
     "name": "stdout",
     "output_type": "stream",
     "text": [
      "+----------+-------+------+------+------+------+-----+---+----+------+----+---------+---------+\n",
      "|ParsedDate| Volume|  Open|   Low|  High| Close|Month|Day|Week|Ticker|Year|YearlHigh|YearlyLow|\n",
      "+----------+-------+------+------+------+------+-----+---+----+------+----+---------+---------+\n",
      "|2023-05-31|6175417|321.12|319.39|322.41|321.08|    5| 31|  22| BRK-B|2023|    331.0|   294.68|\n",
      "|2023-05-30|3232461|321.86| 319.0|322.47|322.19|    5| 30|  22| BRK-B|2023|    331.0|   294.68|\n",
      "|2023-05-26|3229873|320.44|319.67|322.63| 320.6|    5| 26|  21| BRK-B|2023|    331.0|   294.68|\n",
      "|2023-05-25|4251935|320.56|317.71|320.56|319.02|    5| 25|  21| BRK-B|2023|    331.0|   294.68|\n",
      "|2023-05-24|3075393|322.71|319.56| 323.0| 320.2|    5| 24|  21| BRK-B|2023|    331.0|   294.68|\n",
      "+----------+-------+------+------+------+------+-----+---+----+------+----+---------+---------+\n",
      "only showing top 5 rows\n",
      "\n"
     ]
    }
   ],
   "source": [
    "historic_stocks.show(5)"
   ]
  },
  {
   "cell_type": "code",
   "execution_count": 44,
   "id": "8d538c4a",
   "metadata": {},
   "outputs": [],
   "source": [
    "cond = [(historic_stocks.Ticker==weekly.Ticker) & (historic_stocks.Year == weekly.Year) & (historic_stocks.Week == weekly.Week)]\n",
    "historic_stocks = historic_stocks.join(weekly, cond, 'inner').drop(weekly.Year, historic_stocks.Ticker, weekly.Week)"
   ]
  },
  {
   "cell_type": "code",
   "execution_count": 45,
   "id": "293aa935",
   "metadata": {},
   "outputs": [
    {
     "name": "stderr",
     "output_type": "stream",
     "text": [
      "\r\n",
      "[Stage 57:>                                                       (0 + 12) / 12]\r\n",
      "\r\n",
      "                                                                                \r"
     ]
    },
    {
     "name": "stdout",
     "output_type": "stream",
     "text": [
      "+----------+-------+------+------+------+------+-----+---+----+---------+---------+------+----+--------+-------+\n",
      "|ParsedDate| Volume|  Open|   Low|  High| Close|Month|Day|Year|YearlHigh|YearlyLow|Ticker|Week|WeekHigh|WeekLow|\n",
      "+----------+-------+------+------+------+------+-----+---+----+---------+---------+------+----+--------+-------+\n",
      "|2023-05-31|6175417|321.12|319.39|322.41|321.08|    5| 31|2023|    331.0|   294.68| BRK-B|  22|  321.86| 321.12|\n",
      "|2023-05-30|3232461|321.86| 319.0|322.47|322.19|    5| 30|2023|    331.0|   294.68| BRK-B|  22|  321.86| 321.12|\n",
      "|2023-05-26|3229873|320.44|319.67|322.63| 320.6|    5| 26|2023|    331.0|   294.68| BRK-B|  21|  330.75| 320.44|\n",
      "|2023-05-25|4251935|320.56|317.71|320.56|319.02|    5| 25|2023|    331.0|   294.68| BRK-B|  21|  330.75| 320.44|\n",
      "|2023-05-24|3075393|322.71|319.56| 323.0| 320.2|    5| 24|2023|    331.0|   294.68| BRK-B|  21|  330.75| 320.44|\n",
      "+----------+-------+------+------+------+------+-----+---+----+---------+---------+------+----+--------+-------+\n",
      "only showing top 5 rows\n",
      "\n"
     ]
    }
   ],
   "source": [
    "historic_stocks.show(5)"
   ]
  },
  {
   "cell_type": "code",
   "execution_count": 46,
   "id": "dddfed78",
   "metadata": {},
   "outputs": [],
   "source": [
    "historic_stocks = historic_stocks.join(monthly, ['Ticker', 'Year', 'Month'])"
   ]
  },
  {
   "cell_type": "code",
   "execution_count": 47,
   "id": "c8aa68a3",
   "metadata": {},
   "outputs": [
    {
     "data": {
      "text/plain": [
       "['Ticker',\n",
       " 'Year',\n",
       " 'Month',\n",
       " 'ParsedDate',\n",
       " 'Volume',\n",
       " 'Open',\n",
       " 'Low',\n",
       " 'High',\n",
       " 'Close',\n",
       " 'Day',\n",
       " 'YearlHigh',\n",
       " 'YearlyLow',\n",
       " 'Week',\n",
       " 'WeekHigh',\n",
       " 'WeekLow',\n",
       " 'MonthHigh',\n",
       " 'MonthLow']"
      ]
     },
     "execution_count": 47,
     "metadata": {},
     "output_type": "execute_result"
    }
   ],
   "source": [
    "historic_stocks.columns"
   ]
  },
  {
   "cell_type": "code",
   "execution_count": 48,
   "id": "77120538",
   "metadata": {},
   "outputs": [],
   "source": [
    "final_stocks = historic_stocks.select(['Ticker', 'Year',\n",
    " 'Month', 'Day', 'Week', 'Volume','Open','Low','High','Close', 'YearlHigh','YearlyLow','WeekHigh','WeekLow',\n",
    " 'MonthHigh','MonthLow'])"
   ]
  },
  {
   "cell_type": "code",
   "execution_count": 49,
   "id": "c9c5dc28",
   "metadata": {},
   "outputs": [
    {
     "name": "stderr",
     "output_type": "stream",
     "text": [
      "                                                                                \r"
     ]
    },
    {
     "name": "stdout",
     "output_type": "stream",
     "text": [
      "+------+----+-----+---+----+-------+------+------+------+------+---------+---------+--------+-------+---------+--------+\n",
      "|Ticker|Year|Month|Day|Week| Volume|  Open|   Low|  High| Close|YearlHigh|YearlyLow|WeekHigh|WeekLow|MonthHigh|MonthLow|\n",
      "+------+----+-----+---+----+-------+------+------+------+------+---------+---------+--------+-------+---------+--------+\n",
      "| BRK-B|2023|    5| 31|  22|6175417|321.12|319.39|322.41|321.08|    331.0|   294.68|  321.86| 321.12|    331.0|  320.44|\n",
      "| BRK-B|2023|    5| 30|  22|3232461|321.86| 319.0|322.47|322.19|    331.0|   294.68|  321.86| 321.12|    331.0|  320.44|\n",
      "| BRK-B|2023|    5| 26|  21|3229873|320.44|319.67|322.63| 320.6|    331.0|   294.68|  330.75| 320.44|    331.0|  320.44|\n",
      "| BRK-B|2023|    5| 25|  21|4251935|320.56|317.71|320.56|319.02|    331.0|   294.68|  330.75| 320.44|    331.0|  320.44|\n",
      "| BRK-B|2023|    5| 24|  21|3075393|322.71|319.56| 323.0| 320.2|    331.0|   294.68|  330.75| 320.44|    331.0|  320.44|\n",
      "+------+----+-----+---+----+-------+------+------+------+------+---------+---------+--------+-------+---------+--------+\n",
      "only showing top 5 rows\n",
      "\n"
     ]
    }
   ],
   "source": [
    "final_stocks.show(5)"
   ]
  },
  {
   "cell_type": "code",
   "execution_count": 50,
   "id": "1b720fd8",
   "metadata": {},
   "outputs": [],
   "source": [
    "# SQL Queries using pyspark"
   ]
  },
  {
   "cell_type": "code",
   "execution_count": 51,
   "id": "5415f249",
   "metadata": {},
   "outputs": [],
   "source": [
    "final_stocks.createOrReplaceTempView('stockData')"
   ]
  },
  {
   "cell_type": "code",
   "execution_count": 52,
   "id": "15fbaf18",
   "metadata": {},
   "outputs": [
    {
     "name": "stderr",
     "output_type": "stream",
     "text": [
      "                                                                                \r"
     ]
    },
    {
     "name": "stdout",
     "output_type": "stream",
     "text": [
      "+------+----+-----+---+----+--------+------+------+------+------+---------+---------+--------+-------+---------+--------+\n",
      "|Ticker|Year|Month|Day|Week|  Volume|  Open|   Low|  High| Close|YearlHigh|YearlyLow|WeekHigh|WeekLow|MonthHigh|MonthLow|\n",
      "+------+----+-----+---+----+--------+------+------+------+------+---------+---------+--------+-------+---------+--------+\n",
      "|  MSFT|2023|    5| 31|  22|45950550|332.29|327.33|335.94|328.39|   335.23|    223.0|  335.23| 332.29|   335.23|  305.72|\n",
      "|  MSFT|2023|    5| 30|  22|29503070|335.23|330.52|335.74|331.21|   335.23|    223.0|  335.23| 332.29|   335.23|  305.72|\n",
      "|  MSFT|2023|    5| 26|  21|36630630|324.02|323.88| 333.4|332.89|   335.23|    223.0|  324.02| 314.73|   335.23|  305.72|\n",
      "|  MSFT|2023|    5| 25|  21|43301740|323.24| 320.0| 326.9|325.92|   335.23|    223.0|  324.02| 314.73|   335.23|  305.72|\n",
      "|  MSFT|2023|    5| 24|  21|23384890|314.73|312.61| 316.5|313.85|   335.23|    223.0|  324.02| 314.73|   335.23|  305.72|\n",
      "+------+----+-----+---+----+--------+------+------+------+------+---------+---------+--------+-------+---------+--------+\n",
      "only showing top 5 rows\n",
      "\n"
     ]
    }
   ],
   "source": [
    "spark.sql(\"SELECT * FROM stockData where Ticker='MSFT' and Year='2023'\").show(5)"
   ]
  },
  {
   "cell_type": "markdown",
   "id": "bdc16878",
   "metadata": {},
   "source": [
    "## 4. Advanced Analysis"
   ]
  },
  {
   "cell_type": "code",
   "execution_count": 61,
   "id": "5834b11a",
   "metadata": {},
   "outputs": [],
   "source": [
    "snapshot = cleaned_stocks.select(['Ticker', 'ParsedDate', 'Open'])"
   ]
  },
  {
   "cell_type": "code",
   "execution_count": 62,
   "id": "82a10086",
   "metadata": {},
   "outputs": [
    {
     "name": "stdout",
     "output_type": "stream",
     "text": [
      "+------+----------+------+\n",
      "|Ticker|ParsedDate|  Open|\n",
      "+------+----------+------+\n",
      "| BRK-B|2023-05-31|321.12|\n",
      "| BRK-B|2023-05-30|321.86|\n",
      "| BRK-B|2023-05-26|320.44|\n",
      "| BRK-B|2023-05-25|320.56|\n",
      "| BRK-B|2023-05-24|322.71|\n",
      "| BRK-B|2023-05-23|328.19|\n",
      "| BRK-B|2023-05-22|330.75|\n",
      "| BRK-B|2023-05-19| 331.0|\n",
      "| BRK-B|2023-05-18|326.87|\n",
      "| BRK-B|2023-05-17|325.02|\n",
      "| BRK-B|2023-05-16|322.46|\n",
      "| BRK-B|2023-05-15|322.89|\n",
      "| BRK-B|2023-05-12|323.82|\n",
      "| BRK-B|2023-05-11| 321.0|\n",
      "| BRK-B|2023-05-10|326.08|\n",
      "| BRK-B|2023-05-09|324.87|\n",
      "| BRK-B|2023-05-08|328.26|\n",
      "| BRK-B|2023-05-05|323.36|\n",
      "| BRK-B|2023-05-04|323.44|\n",
      "| BRK-B|2023-05-03|327.13|\n",
      "+------+----------+------+\n",
      "only showing top 20 rows\n",
      "\n"
     ]
    }
   ],
   "source": [
    "snapshot.show()"
   ]
  },
  {
   "cell_type": "code",
   "execution_count": 63,
   "id": "f71b5064",
   "metadata": {},
   "outputs": [],
   "source": [
    "from pyspark.sql.window import Window"
   ]
  },
  {
   "cell_type": "code",
   "execution_count": 64,
   "id": "cd917549",
   "metadata": {},
   "outputs": [],
   "source": [
    "lag1Day = Window.partitionBy(\"Ticker\").orderBy(\"ParsedDate\")"
   ]
  },
  {
   "cell_type": "code",
   "execution_count": 65,
   "id": "74c74088",
   "metadata": {},
   "outputs": [
    {
     "name": "stdout",
     "output_type": "stream",
     "text": [
      "+------+----------+-----+------------+\n",
      "|Ticker|ParsedDate| Open|PreviousOpen|\n",
      "+------+----------+-----+------------+\n",
      "|  AAPL|2018-05-31|46.81|        null|\n",
      "|  AAPL|2018-06-01| 47.0|       46.81|\n",
      "|  AAPL|2018-06-04|47.91|        47.0|\n",
      "|  AAPL|2018-06-05|48.27|       47.91|\n",
      "|  AAPL|2018-06-06|48.41|       48.27|\n",
      "|  AAPL|2018-06-07|48.54|       48.41|\n",
      "|  AAPL|2018-06-08|47.79|       48.54|\n",
      "|  AAPL|2018-06-11|47.84|       47.79|\n",
      "|  AAPL|2018-06-12|47.85|       47.84|\n",
      "|  AAPL|2018-06-13|48.11|       47.85|\n",
      "|  AAPL|2018-06-14|47.89|       48.11|\n",
      "|  AAPL|2018-06-15|47.51|       47.89|\n",
      "|  AAPL|2018-06-18|46.97|       47.51|\n",
      "|  AAPL|2018-06-19|46.29|       46.97|\n",
      "|  AAPL|2018-06-20|46.59|       46.29|\n",
      "|  AAPL|2018-06-21|46.81|       46.59|\n",
      "|  AAPL|2018-06-22|46.53|       46.81|\n",
      "|  AAPL|2018-06-25|45.85|       46.53|\n",
      "|  AAPL|2018-06-26|45.75|       45.85|\n",
      "|  AAPL|2018-06-27|46.31|       45.75|\n",
      "+------+----------+-----+------------+\n",
      "only showing top 20 rows\n",
      "\n"
     ]
    }
   ],
   "source": [
    "snapshot.withColumn(\"PreviousOpen\", func.lag(\"Open\", 1).over(lag1Day)).show()"
   ]
  },
  {
   "cell_type": "code",
   "execution_count": 66,
   "id": "cf9e09ac",
   "metadata": {},
   "outputs": [],
   "source": [
    "## Calculate moving average\n",
    "movingAverage = Window.partitionBy(\"Ticker\").orderBy(\"ParsedDate\").rowsBetween(-50, 0)"
   ]
  },
  {
   "cell_type": "code",
   "execution_count": 68,
   "id": "9a00dd22",
   "metadata": {},
   "outputs": [
    {
     "name": "stdout",
     "output_type": "stream",
     "text": [
      "+------+----------+-----+-----+\n",
      "|Ticker|ParsedDate| Open| MA50|\n",
      "+------+----------+-----+-----+\n",
      "|  AAPL|2018-05-31|46.81|46.81|\n",
      "|  AAPL|2018-06-01| 47.0|46.91|\n",
      "|  AAPL|2018-06-04|47.91|47.24|\n",
      "|  AAPL|2018-06-05|48.27| 47.5|\n",
      "|  AAPL|2018-06-06|48.41|47.68|\n",
      "|  AAPL|2018-06-07|48.54|47.82|\n",
      "|  AAPL|2018-06-08|47.79|47.82|\n",
      "|  AAPL|2018-06-11|47.84|47.82|\n",
      "|  AAPL|2018-06-12|47.85|47.82|\n",
      "|  AAPL|2018-06-13|48.11|47.85|\n",
      "|  AAPL|2018-06-14|47.89|47.86|\n",
      "|  AAPL|2018-06-15|47.51|47.83|\n",
      "|  AAPL|2018-06-18|46.97|47.76|\n",
      "|  AAPL|2018-06-19|46.29|47.66|\n",
      "|  AAPL|2018-06-20|46.59|47.59|\n",
      "|  AAPL|2018-06-21|46.81|47.54|\n",
      "|  AAPL|2018-06-22|46.53|47.48|\n",
      "|  AAPL|2018-06-25|45.85|47.39|\n",
      "|  AAPL|2018-06-26|45.75| 47.3|\n",
      "|  AAPL|2018-06-27|46.31|47.25|\n",
      "+------+----------+-----+-----+\n",
      "only showing top 20 rows\n",
      "\n"
     ]
    }
   ],
   "source": [
    "(snapshot.withColumn(\"MA50\", func.avg(\"Open\").over(movingAverage))\n",
    "         .withColumn(\"MA50\", func.round(\"MA50\", 2))).show()"
   ]
  },
  {
   "cell_type": "code",
   "execution_count": 69,
   "id": "22de1caa",
   "metadata": {},
   "outputs": [],
   "source": [
    "maximumStock = Window.partitionBy(\"Ticker\").orderBy(snapshot.Open.desc())"
   ]
  },
  {
   "cell_type": "code",
   "execution_count": 70,
   "id": "cad7bd83",
   "metadata": {},
   "outputs": [
    {
     "name": "stdout",
     "output_type": "stream",
     "text": [
      "+------+----------+------+-------+\n",
      "|Ticker|ParsedDate|  Open|MaxOpen|\n",
      "+------+----------+------+-------+\n",
      "|  AAPL|2022-01-04|182.63|      1|\n",
      "|  AAPL|2021-12-13|181.12|      2|\n",
      "|  AAPL|2021-12-28|180.16|      3|\n",
      "|  AAPL|2022-01-05|179.61|      4|\n",
      "|  AAPL|2021-12-30|179.47|      5|\n",
      "|  AAPL|2021-12-29|179.33|      6|\n",
      "|  AAPL|2021-12-16|179.28|      7|\n",
      "|  AAPL|2022-03-30|178.55|      8|\n",
      "|  AAPL|2021-12-31|178.09|      9|\n",
      "|  AAPL|2022-03-31|177.84|     10|\n",
      "|  AAPL|2022-01-03|177.83|     11|\n",
      "|  AAPL|2022-04-05| 177.5|     12|\n",
      "|  AAPL|2023-05-31|177.33|     13|\n",
      "|  AAPL|2021-12-27|177.09|     14|\n",
      "|  AAPL|2023-05-30|176.96|     15|\n",
      "|  AAPL|2022-03-29|176.69|     16|\n",
      "|  AAPL|2023-05-19|176.39|     17|\n",
      "|  AAPL|2022-01-12|176.12|     18|\n",
      "|  AAPL|2022-02-09|176.05|     19|\n",
      "|  AAPL|2021-12-23|175.85|     20|\n",
      "+------+----------+------+-------+\n",
      "only showing top 20 rows\n",
      "\n"
     ]
    }
   ],
   "source": [
    "snapshot.withColumn(\"MaxOpen\", func.row_number().over(maximumStock)).show()"
   ]
  },
  {
   "cell_type": "code",
   "execution_count": 71,
   "id": "775d7ed4",
   "metadata": {},
   "outputs": [
    {
     "name": "stdout",
     "output_type": "stream",
     "text": [
      "+------+----------+------+-------+\n",
      "|Ticker|ParsedDate|  Open|MaxOpen|\n",
      "+------+----------+------+-------+\n",
      "|  AAPL|2022-01-04|182.63|      1|\n",
      "|  AAPL|2021-12-13|181.12|      2|\n",
      "|  AAPL|2021-12-28|180.16|      3|\n",
      "|  AAPL|2022-01-05|179.61|      4|\n",
      "|  AAPL|2021-12-30|179.47|      5|\n",
      "|  AMZN|2021-07-12| 187.2|      1|\n",
      "|  AMZN|2021-07-09|186.13|      2|\n",
      "|  AMZN|2021-07-07|185.87|      3|\n",
      "|  AMZN|2021-11-19|185.63|      4|\n",
      "|  AMZN|2021-07-14|185.44|      5|\n",
      "| BRK-B|2022-03-29|361.39|      1|\n",
      "| BRK-B|2022-03-28|360.59|      2|\n",
      "| BRK-B|2022-03-31| 359.0|      3|\n",
      "| BRK-B|2022-03-30|354.66|      4|\n",
      "| BRK-B|2022-03-25| 353.9|      5|\n",
      "| GOOGL|2022-02-02|151.25|      1|\n",
      "| GOOGL|2021-11-19|149.98|      2|\n",
      "| GOOGL|2021-11-08|149.83|      3|\n",
      "| GOOGL|2021-11-22|149.33|      4|\n",
      "| GOOGL|2021-11-09|149.23|      5|\n",
      "+------+----------+------+-------+\n",
      "only showing top 20 rows\n",
      "\n"
     ]
    }
   ],
   "source": [
    "## Calculate top 5 highest close price for each stock in a year\n",
    "snapshot.withColumn(\"MaxOpen\", func.row_number().over(maximumStock)).filter(\"MaxOpen<=5\").show()"
   ]
  },
  {
   "cell_type": "code",
   "execution_count": 73,
   "id": "7bd7e97d",
   "metadata": {},
   "outputs": [],
   "source": [
    "result = snapshot.withColumn(\"MaxOpen\", func.row_number().over(maximumStock)).filter(\"MaxOpen<=5\")"
   ]
  },
  {
   "cell_type": "code",
   "execution_count": 78,
   "id": "3604fa03",
   "metadata": {},
   "outputs": [],
   "source": [
    "moving_avg = (snapshot.withColumn(\"MA50\", func.avg(\"Open\").over(movingAverage))\n",
    "         .withColumn(\"MA50\", func.round(\"MA50\", 2)))"
   ]
  },
  {
   "cell_type": "markdown",
   "id": "35ead3d7",
   "metadata": {},
   "source": [
    "## 5. Saving Data"
   ]
  },
  {
   "cell_type": "markdown",
   "id": "6cf1a644",
   "metadata": {},
   "source": [
    "CSV vs Parquet vs Avro\n",
    "\n",
    "\n",
    "| | CSV | Avro | Parquet |\n",
    "| --- | --- | --- | --- |\n",
    "| Columnar | No | No | Yes |\n",
    "| Compressable | Yes | Yes | Yes |\n",
    "| Human Readable | Yes | No | No |\n",
    "| Schema | No | Yes | Yes |\n",
    "\n",
    "\n",
    "Other formats such as Text, ORC, JSON etc.\n",
    "\n",
    "Data can also be stored in database such as SQL server."
   ]
  },
  {
   "cell_type": "code",
   "execution_count": 79,
   "id": "22d847e8",
   "metadata": {},
   "outputs": [
    {
     "name": "stderr",
     "output_type": "stream",
     "text": [
      "                                                                                \r"
     ]
    }
   ],
   "source": [
    "## Parquet format\n",
    "(moving_avg.write.option(\"header\",True)\n",
    "             .partitionBy(\"Ticker\", \"ParsedDate\")\n",
    "             .mode(\"overwrite\")\n",
    "             .parquet(\"movingAverage_parquet\"))"
   ]
  },
  {
   "cell_type": "code",
   "execution_count": 82,
   "id": "0f2a7f3b",
   "metadata": {},
   "outputs": [],
   "source": [
    "(moving_avg.coalesce(3).write.option(\"header\",True)\n",
    "             .mode(\"overwrite\")\n",
    "             .parquet(\"movingAverage_parquet_3\"))"
   ]
  },
  {
   "cell_type": "code",
   "execution_count": 80,
   "id": "d69f6165",
   "metadata": {},
   "outputs": [],
   "source": [
    "## CSV Format\n",
    "(result.write.option(\"header\",True)\n",
    "             .partitionBy(\"Ticker\")\n",
    "             .mode(\"overwrite\")\n",
    "             .csv(\"result_csv\"))"
   ]
  }
 ],
 "metadata": {
  "kernelspec": {
   "display_name": "Python 3 (ipykernel)",
   "language": "python",
   "name": "python3"
  },
  "language_info": {
   "codemirror_mode": {
    "name": "ipython",
    "version": 3
   },
   "file_extension": ".py",
   "mimetype": "text/x-python",
   "name": "python",
   "nbconvert_exporter": "python",
   "pygments_lexer": "ipython3",
   "version": "3.11.3"
  }
 },
 "nbformat": 4,
 "nbformat_minor": 5
}
